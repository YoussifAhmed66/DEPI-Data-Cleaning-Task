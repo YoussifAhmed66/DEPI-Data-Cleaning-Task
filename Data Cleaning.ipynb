{
 "cells": [
  {
   "cell_type": "code",
   "execution_count": 1,
   "id": "e3d84f53-20e4-4864-b1e0-7fb11aab560f",
   "metadata": {},
   "outputs": [],
   "source": [
    "import pandas as pd"
   ]
  },
  {
   "cell_type": "markdown",
   "id": "0c0ac402-8888-481e-abf5-6b88e23cc70e",
   "metadata": {},
   "source": [
    "# Read csv file"
   ]
  },
  {
   "cell_type": "code",
   "execution_count": 2,
   "id": "20b7a88c-416c-4b6c-8100-47727054da45",
   "metadata": {},
   "outputs": [],
   "source": [
    "df = pd.read_csv(\"bi.csv\",  encoding_errors=\"ignore\")"
   ]
  },
  {
   "cell_type": "code",
   "execution_count": 3,
   "id": "95cd9944-a49e-48cc-b6da-dab9b1be41cf",
   "metadata": {},
   "outputs": [
    {
     "data": {
      "text/html": [
       "<div>\n",
       "<style scoped>\n",
       "    .dataframe tbody tr th:only-of-type {\n",
       "        vertical-align: middle;\n",
       "    }\n",
       "\n",
       "    .dataframe tbody tr th {\n",
       "        vertical-align: top;\n",
       "    }\n",
       "\n",
       "    .dataframe thead th {\n",
       "        text-align: right;\n",
       "    }\n",
       "</style>\n",
       "<table border=\"1\" class=\"dataframe\">\n",
       "  <thead>\n",
       "    <tr style=\"text-align: right;\">\n",
       "      <th></th>\n",
       "      <th>fNAME</th>\n",
       "      <th>lNAME</th>\n",
       "      <th>Age</th>\n",
       "      <th>gender</th>\n",
       "      <th>country</th>\n",
       "      <th>residence</th>\n",
       "      <th>entryEXAM</th>\n",
       "      <th>prevEducation</th>\n",
       "      <th>studyHOURS</th>\n",
       "      <th>Python</th>\n",
       "      <th>DB</th>\n",
       "    </tr>\n",
       "  </thead>\n",
       "  <tbody>\n",
       "    <tr>\n",
       "      <th>0</th>\n",
       "      <td>Christina</td>\n",
       "      <td>Binger</td>\n",
       "      <td>44</td>\n",
       "      <td>Female</td>\n",
       "      <td>Norway</td>\n",
       "      <td>Private</td>\n",
       "      <td>72</td>\n",
       "      <td>Masters</td>\n",
       "      <td>158</td>\n",
       "      <td>59.0</td>\n",
       "      <td>55</td>\n",
       "    </tr>\n",
       "    <tr>\n",
       "      <th>1</th>\n",
       "      <td>Alex</td>\n",
       "      <td>Walekhwa</td>\n",
       "      <td>60</td>\n",
       "      <td>M</td>\n",
       "      <td>Kenya</td>\n",
       "      <td>Private</td>\n",
       "      <td>79</td>\n",
       "      <td>Diploma</td>\n",
       "      <td>150</td>\n",
       "      <td>60.0</td>\n",
       "      <td>75</td>\n",
       "    </tr>\n",
       "    <tr>\n",
       "      <th>2</th>\n",
       "      <td>Philip</td>\n",
       "      <td>Leo</td>\n",
       "      <td>25</td>\n",
       "      <td>Male</td>\n",
       "      <td>Uganda</td>\n",
       "      <td>Sognsvann</td>\n",
       "      <td>55</td>\n",
       "      <td>HighSchool</td>\n",
       "      <td>130</td>\n",
       "      <td>74.0</td>\n",
       "      <td>50</td>\n",
       "    </tr>\n",
       "    <tr>\n",
       "      <th>3</th>\n",
       "      <td>Shoni</td>\n",
       "      <td>Hlongwane</td>\n",
       "      <td>22</td>\n",
       "      <td>F</td>\n",
       "      <td>Rsa</td>\n",
       "      <td>Sognsvann</td>\n",
       "      <td>40</td>\n",
       "      <td>High School</td>\n",
       "      <td>120</td>\n",
       "      <td>NaN</td>\n",
       "      <td>44</td>\n",
       "    </tr>\n",
       "    <tr>\n",
       "      <th>4</th>\n",
       "      <td>Maria</td>\n",
       "      <td>Kedibone</td>\n",
       "      <td>23</td>\n",
       "      <td>Female</td>\n",
       "      <td>South Africa</td>\n",
       "      <td>Sognsvann</td>\n",
       "      <td>65</td>\n",
       "      <td>High School</td>\n",
       "      <td>122</td>\n",
       "      <td>91.0</td>\n",
       "      <td>80</td>\n",
       "    </tr>\n",
       "    <tr>\n",
       "      <th>...</th>\n",
       "      <td>...</td>\n",
       "      <td>...</td>\n",
       "      <td>...</td>\n",
       "      <td>...</td>\n",
       "      <td>...</td>\n",
       "      <td>...</td>\n",
       "      <td>...</td>\n",
       "      <td>...</td>\n",
       "      <td>...</td>\n",
       "      <td>...</td>\n",
       "      <td>...</td>\n",
       "    </tr>\n",
       "    <tr>\n",
       "      <th>72</th>\n",
       "      <td>Clara</td>\n",
       "      <td>Bernard</td>\n",
       "      <td>43</td>\n",
       "      <td>Female</td>\n",
       "      <td>France</td>\n",
       "      <td>Private</td>\n",
       "      <td>80</td>\n",
       "      <td>Bachelors</td>\n",
       "      <td>150</td>\n",
       "      <td>75.0</td>\n",
       "      <td>43</td>\n",
       "    </tr>\n",
       "    <tr>\n",
       "      <th>73</th>\n",
       "      <td>Julian</td>\n",
       "      <td>Nielsen</td>\n",
       "      <td>31</td>\n",
       "      <td>Male</td>\n",
       "      <td>Denmark</td>\n",
       "      <td>Sognsvann</td>\n",
       "      <td>90</td>\n",
       "      <td>Masters</td>\n",
       "      <td>158</td>\n",
       "      <td>84.0</td>\n",
       "      <td>83</td>\n",
       "    </tr>\n",
       "    <tr>\n",
       "      <th>74</th>\n",
       "      <td>Sophie</td>\n",
       "      <td>Brown</td>\n",
       "      <td>33</td>\n",
       "      <td>Female</td>\n",
       "      <td>UK</td>\n",
       "      <td>Sognsvann</td>\n",
       "      <td>96</td>\n",
       "      <td>Masters</td>\n",
       "      <td>158</td>\n",
       "      <td>85.0</td>\n",
       "      <td>90</td>\n",
       "    </tr>\n",
       "    <tr>\n",
       "      <th>75</th>\n",
       "      <td>Leon</td>\n",
       "      <td>Bauer</td>\n",
       "      <td>35</td>\n",
       "      <td>Male</td>\n",
       "      <td>Germany</td>\n",
       "      <td>Sognsvann</td>\n",
       "      <td>90</td>\n",
       "      <td>Masters</td>\n",
       "      <td>160</td>\n",
       "      <td>87.0</td>\n",
       "      <td>74</td>\n",
       "    </tr>\n",
       "    <tr>\n",
       "      <th>76</th>\n",
       "      <td>Mohammed</td>\n",
       "      <td>Salim</td>\n",
       "      <td>31</td>\n",
       "      <td>Male</td>\n",
       "      <td>Somali</td>\n",
       "      <td>Sognsvann</td>\n",
       "      <td>35</td>\n",
       "      <td>Masters</td>\n",
       "      <td>144</td>\n",
       "      <td>72.0</td>\n",
       "      <td>90</td>\n",
       "    </tr>\n",
       "  </tbody>\n",
       "</table>\n",
       "<p>77 rows × 11 columns</p>\n",
       "</div>"
      ],
      "text/plain": [
       "        fNAME      lNAME  Age  gender       country  residence  entryEXAM  \\\n",
       "0   Christina     Binger   44  Female        Norway    Private         72   \n",
       "1        Alex   Walekhwa   60       M         Kenya    Private         79   \n",
       "2      Philip        Leo   25    Male        Uganda  Sognsvann         55   \n",
       "3       Shoni  Hlongwane   22       F           Rsa  Sognsvann         40   \n",
       "4       Maria   Kedibone   23  Female  South Africa  Sognsvann         65   \n",
       "..        ...        ...  ...     ...           ...        ...        ...   \n",
       "72      Clara    Bernard   43  Female        France    Private         80   \n",
       "73     Julian    Nielsen   31    Male       Denmark  Sognsvann         90   \n",
       "74     Sophie      Brown   33  Female            UK  Sognsvann         96   \n",
       "75       Leon      Bauer   35    Male       Germany  Sognsvann         90   \n",
       "76   Mohammed      Salim   31    Male        Somali  Sognsvann         35   \n",
       "\n",
       "   prevEducation  studyHOURS  Python  DB  \n",
       "0        Masters         158    59.0  55  \n",
       "1        Diploma         150    60.0  75  \n",
       "2     HighSchool         130    74.0  50  \n",
       "3    High School         120     NaN  44  \n",
       "4    High School         122    91.0  80  \n",
       "..           ...         ...     ...  ..  \n",
       "72     Bachelors         150    75.0  43  \n",
       "73       Masters         158    84.0  83  \n",
       "74       Masters         158    85.0  90  \n",
       "75       Masters         160    87.0  74  \n",
       "76       Masters         144    72.0  90  \n",
       "\n",
       "[77 rows x 11 columns]"
      ]
     },
     "execution_count": 3,
     "metadata": {},
     "output_type": "execute_result"
    }
   ],
   "source": [
    "df"
   ]
  },
  {
   "cell_type": "markdown",
   "id": "116e0faa-9e34-4eea-b8c6-4012a9e228d4",
   "metadata": {},
   "source": [
    "# Data cleaning"
   ]
  },
  {
   "cell_type": "markdown",
   "id": "cc8a93c5-ba84-4561-a9d7-a3b796d1fbc7",
   "metadata": {},
   "source": [
    "### Check dataset structure"
   ]
  },
  {
   "cell_type": "code",
   "execution_count": 4,
   "id": "671f7432-651c-4336-ad20-d5c2680ca8e1",
   "metadata": {},
   "outputs": [
    {
     "data": {
      "text/plain": [
       "(77, 11)"
      ]
     },
     "execution_count": 4,
     "metadata": {},
     "output_type": "execute_result"
    }
   ],
   "source": [
    "df.shape"
   ]
  },
  {
   "cell_type": "markdown",
   "id": "b7d37148-6420-4625-bc2b-9a6f5f2dfc0d",
   "metadata": {},
   "source": [
    "### Checking data types and null values"
   ]
  },
  {
   "cell_type": "code",
   "execution_count": 5,
   "id": "df2864f7-67f3-4d72-9d76-52463ace33df",
   "metadata": {},
   "outputs": [
    {
     "name": "stdout",
     "output_type": "stream",
     "text": [
      "<class 'pandas.core.frame.DataFrame'>\n",
      "RangeIndex: 77 entries, 0 to 76\n",
      "Data columns (total 11 columns):\n",
      " #   Column         Non-Null Count  Dtype  \n",
      "---  ------         --------------  -----  \n",
      " 0   fNAME          77 non-null     object \n",
      " 1   lNAME          77 non-null     object \n",
      " 2   Age            77 non-null     int64  \n",
      " 3   gender         77 non-null     object \n",
      " 4   country        77 non-null     object \n",
      " 5   residence      77 non-null     object \n",
      " 6   entryEXAM      77 non-null     int64  \n",
      " 7   prevEducation  77 non-null     object \n",
      " 8   studyHOURS     77 non-null     int64  \n",
      " 9   Python         75 non-null     float64\n",
      " 10  DB             77 non-null     int64  \n",
      "dtypes: float64(1), int64(4), object(6)\n",
      "memory usage: 6.7+ KB\n"
     ]
    }
   ],
   "source": [
    "df.info()"
   ]
  },
  {
   "cell_type": "markdown",
   "id": "71021af2-e087-4a74-8f7d-fc6aba33fb3a",
   "metadata": {},
   "source": [
    "- Data types are all good\n",
    "- 2 null cells in python column"
   ]
  },
  {
   "cell_type": "markdown",
   "id": "0e2981aa-9b7a-440b-b2c1-d10341bf13b5",
   "metadata": {},
   "source": [
    "### Data consistency"
   ]
  },
  {
   "cell_type": "markdown",
   "id": "84f39ba1-16ff-496e-8067-3a7c12fd9af0",
   "metadata": {},
   "source": [
    "#### Checking gender"
   ]
  },
  {
   "cell_type": "code",
   "execution_count": 6,
   "id": "e9b53d15-dea8-4366-b484-7aa50be57c37",
   "metadata": {},
   "outputs": [
    {
     "data": {
      "text/plain": [
       "array(['Female', 'M', 'Male', 'F', 'female', 'male'], dtype=object)"
      ]
     },
     "execution_count": 6,
     "metadata": {},
     "output_type": "execute_result"
    }
   ],
   "source": [
    "df['gender'].unique()"
   ]
  },
  {
   "cell_type": "code",
   "execution_count": 7,
   "id": "fd676d8f-bdcd-4799-9715-7775b425bc5a",
   "metadata": {},
   "outputs": [],
   "source": [
    "df['gender'] = df['gender'].str.strip().str.upper()\n",
    "df['gender'] = df['gender'].replace({\n",
    "    'M': 'Male',\n",
    "    \"MALE\": 'Male',\n",
    "    'F': 'Female',\n",
    "    'FEMALE':'Female'\n",
    "})"
   ]
  },
  {
   "cell_type": "code",
   "execution_count": 8,
   "id": "06781d95-f7cc-4464-944f-c71abe8898d7",
   "metadata": {},
   "outputs": [
    {
     "data": {
      "text/plain": [
       "array(['Female', 'Male'], dtype=object)"
      ]
     },
     "execution_count": 8,
     "metadata": {},
     "output_type": "execute_result"
    }
   ],
   "source": [
    "df['gender'].unique()"
   ]
  },
  {
   "cell_type": "markdown",
   "id": "2e7e55e7-b98b-42ab-9445-6c8837db9330",
   "metadata": {},
   "source": [
    "#### Checking country"
   ]
  },
  {
   "cell_type": "code",
   "execution_count": 9,
   "id": "2788c476-d7cb-4d69-b510-862e8bf72176",
   "metadata": {},
   "outputs": [
    {
     "data": {
      "text/plain": [
       "array(['Norway', 'Kenya', 'Uganda', 'Rsa', 'South Africa', 'Norge',\n",
       "       'norway', 'Denmark', 'Netherlands', 'Italy', 'Spain', 'UK',\n",
       "       'Somali', 'Nigeria', 'Germany', 'France'], dtype=object)"
      ]
     },
     "execution_count": 9,
     "metadata": {},
     "output_type": "execute_result"
    }
   ],
   "source": [
    "df['country'].unique()"
   ]
  },
  {
   "cell_type": "code",
   "execution_count": 10,
   "id": "8e245bd8-d0d1-4f55-ba40-83c23cbe4f31",
   "metadata": {},
   "outputs": [
    {
     "data": {
      "text/plain": [
       "country\n",
       "Norway          47\n",
       "Uganda           4\n",
       "Kenya            3\n",
       "Germany          3\n",
       "Italy            2\n",
       "Spain            2\n",
       "Netherlands      2\n",
       "Denmark          2\n",
       "UK               2\n",
       "Somali           2\n",
       "Nigeria          2\n",
       "France           2\n",
       "norway           1\n",
       "Norge            1\n",
       "South Africa     1\n",
       "Rsa              1\n",
       "Name: count, dtype: int64"
      ]
     },
     "execution_count": 10,
     "metadata": {},
     "output_type": "execute_result"
    }
   ],
   "source": [
    "df['country'].value_counts()"
   ]
  },
  {
   "cell_type": "code",
   "execution_count": 11,
   "id": "78e877be-d51e-45db-b0d0-3c4ddac8763b",
   "metadata": {},
   "outputs": [],
   "source": [
    "# Fixing norway, and south africa\n",
    "df['country'] = df['country'].str.strip().str.upper().replace({\n",
    "    'NORWAY': 'Norway',\n",
    "    'NORGE': 'Norway',\n",
    "    'RSA': 'SOUTH AFRICA'\n",
    "}) "
   ]
  },
  {
   "cell_type": "code",
   "execution_count": 12,
   "id": "0e91930a-b937-4c6e-a026-7a84983842e8",
   "metadata": {},
   "outputs": [
    {
     "data": {
      "text/plain": [
       "array(['Norway', 'KENYA', 'UGANDA', 'SOUTH AFRICA', 'DENMARK',\n",
       "       'NETHERLANDS', 'ITALY', 'SPAIN', 'UK', 'SOMALI', 'NIGERIA',\n",
       "       'GERMANY', 'FRANCE'], dtype=object)"
      ]
     },
     "execution_count": 12,
     "metadata": {},
     "output_type": "execute_result"
    }
   ],
   "source": [
    "df['country'].unique()"
   ]
  },
  {
   "cell_type": "markdown",
   "id": "02397bff-e31b-4d97-a16e-db1f276dbd24",
   "metadata": {},
   "source": [
    "#### Ckeking prevEducation"
   ]
  },
  {
   "cell_type": "code",
   "execution_count": 13,
   "id": "7b68f7dc-7f3c-43dc-984f-615836d120eb",
   "metadata": {},
   "outputs": [
    {
     "data": {
      "text/plain": [
       "array(['Masters', 'Diploma', 'HighSchool', 'High School', 'Bachelors',\n",
       "       'Barrrchelors', 'diploma', 'DIPLOMA', 'Diplomaaa', 'Doctorate'],\n",
       "      dtype=object)"
      ]
     },
     "execution_count": 13,
     "metadata": {},
     "output_type": "execute_result"
    }
   ],
   "source": [
    "df['prevEducation'].unique()"
   ]
  },
  {
   "cell_type": "code",
   "execution_count": 14,
   "id": "8630d6a2-a44b-4712-9e55-b097e010cdf8",
   "metadata": {},
   "outputs": [],
   "source": [
    "df['prevEducation'] = df['prevEducation'].str.strip().str.lower()\n",
    "\n",
    "df['prevEducation'] = df['prevEducation'].replace({\n",
    "    'bachelors': 'Bachelors',\n",
    "    'barrrchelors' : 'Bachelors', \n",
    "    \"diploma\": 'Diploma',\n",
    "    'diplomaaa': 'Diploma',\n",
    "    'highschool': 'High School',\n",
    "    'high school': 'High School',\n",
    "    'masters': 'Masters',\n",
    "    'doctorate': \"Doctorate\"\n",
    "})"
   ]
  },
  {
   "cell_type": "code",
   "execution_count": 15,
   "id": "dac68b72-b832-4c37-897b-03d9fd90fc68",
   "metadata": {},
   "outputs": [
    {
     "data": {
      "text/plain": [
       "array(['Masters', 'Diploma', 'High School', 'Bachelors', 'Doctorate'],\n",
       "      dtype=object)"
      ]
     },
     "execution_count": 15,
     "metadata": {},
     "output_type": "execute_result"
    }
   ],
   "source": [
    "df['prevEducation'].unique()"
   ]
  },
  {
   "cell_type": "markdown",
   "id": "f385681d-da43-434b-a828-2b769a3ffa36",
   "metadata": {},
   "source": [
    "### Checking for duplicates"
   ]
  },
  {
   "cell_type": "code",
   "execution_count": 16,
   "id": "efcb44e9-2f62-470b-8b91-0862f786d2ee",
   "metadata": {},
   "outputs": [
    {
     "data": {
      "text/plain": [
       "0     False\n",
       "1     False\n",
       "2     False\n",
       "3     False\n",
       "4     False\n",
       "      ...  \n",
       "72    False\n",
       "73    False\n",
       "74    False\n",
       "75    False\n",
       "76    False\n",
       "Length: 77, dtype: bool"
      ]
     },
     "execution_count": 16,
     "metadata": {},
     "output_type": "execute_result"
    }
   ],
   "source": [
    "df.duplicated()"
   ]
  },
  {
   "cell_type": "code",
   "execution_count": 17,
   "id": "7b299867-7958-4e21-be0f-4d4a495e8d17",
   "metadata": {},
   "outputs": [
    {
     "data": {
      "text/plain": [
       "np.int64(0)"
      ]
     },
     "execution_count": 17,
     "metadata": {},
     "output_type": "execute_result"
    }
   ],
   "source": [
    "df.duplicated().sum()"
   ]
  },
  {
   "cell_type": "markdown",
   "id": "7d724caa-c6de-413e-afff-9dfe4abdcebb",
   "metadata": {},
   "source": [
    "#### No duplicated rows"
   ]
  },
  {
   "cell_type": "code",
   "execution_count": 18,
   "id": "446f6086-40d3-4e08-93de-39d23b0d7d06",
   "metadata": {},
   "outputs": [],
   "source": [
    "# Just to make sure\n",
    "df.drop_duplicates(inplace=True)"
   ]
  },
  {
   "cell_type": "markdown",
   "id": "2eb813f9-ff6a-4bcb-839c-1edcc1389881",
   "metadata": {},
   "source": [
    "# Missing data"
   ]
  },
  {
   "cell_type": "code",
   "execution_count": 19,
   "id": "dcc76c2c-b50a-46d2-8767-6f9b81f501be",
   "metadata": {},
   "outputs": [
    {
     "data": {
      "text/plain": [
       "fNAME            0\n",
       "lNAME            0\n",
       "Age              0\n",
       "gender           0\n",
       "country          0\n",
       "residence        0\n",
       "entryEXAM        0\n",
       "prevEducation    0\n",
       "studyHOURS       0\n",
       "Python           2\n",
       "DB               0\n",
       "dtype: int64"
      ]
     },
     "execution_count": 19,
     "metadata": {},
     "output_type": "execute_result"
    }
   ],
   "source": [
    "df.isnull().sum()"
   ]
  },
  {
   "cell_type": "code",
   "execution_count": 20,
   "id": "14983e06-8d39-47e3-b267-929ed67260e0",
   "metadata": {},
   "outputs": [],
   "source": [
    "# since python is a numeric column so we can use mean or median\n",
    "df[\"Python\"] = df[\"Python\"].fillna(df[\"Python\"].median())"
   ]
  },
  {
   "cell_type": "code",
   "execution_count": 21,
   "id": "ce4f135a-863b-484f-a33a-ab9a00a0e849",
   "metadata": {},
   "outputs": [
    {
     "data": {
      "text/plain": [
       "fNAME            0\n",
       "lNAME            0\n",
       "Age              0\n",
       "gender           0\n",
       "country          0\n",
       "residence        0\n",
       "entryEXAM        0\n",
       "prevEducation    0\n",
       "studyHOURS       0\n",
       "Python           0\n",
       "DB               0\n",
       "dtype: int64"
      ]
     },
     "execution_count": 21,
     "metadata": {},
     "output_type": "execute_result"
    }
   ],
   "source": [
    "df.isnull().sum()"
   ]
  },
  {
   "cell_type": "markdown",
   "id": "c7bb57f8-9037-4c18-8620-a42dd1e6ab01",
   "metadata": {},
   "source": [
    "# Outliers"
   ]
  },
  {
   "cell_type": "markdown",
   "id": "87a5af8e-e857-42b5-adf5-859a8344fd0e",
   "metadata": {},
   "source": [
    "### Identifying outliers"
   ]
  },
  {
   "cell_type": "code",
   "execution_count": 22,
   "id": "7a7bac5d-c030-4fa0-a2e8-40f7f1ef007f",
   "metadata": {},
   "outputs": [
    {
     "data": {
      "text/html": [
       "<div>\n",
       "<style scoped>\n",
       "    .dataframe tbody tr th:only-of-type {\n",
       "        vertical-align: middle;\n",
       "    }\n",
       "\n",
       "    .dataframe tbody tr th {\n",
       "        vertical-align: top;\n",
       "    }\n",
       "\n",
       "    .dataframe thead th {\n",
       "        text-align: right;\n",
       "    }\n",
       "</style>\n",
       "<table border=\"1\" class=\"dataframe\">\n",
       "  <thead>\n",
       "    <tr style=\"text-align: right;\">\n",
       "      <th></th>\n",
       "      <th>Age</th>\n",
       "      <th>entryEXAM</th>\n",
       "      <th>studyHOURS</th>\n",
       "      <th>Python</th>\n",
       "      <th>DB</th>\n",
       "    </tr>\n",
       "  </thead>\n",
       "  <tbody>\n",
       "    <tr>\n",
       "      <th>count</th>\n",
       "      <td>77.000000</td>\n",
       "      <td>77.000000</td>\n",
       "      <td>77.000000</td>\n",
       "      <td>77.000000</td>\n",
       "      <td>77.000000</td>\n",
       "    </tr>\n",
       "    <tr>\n",
       "      <th>mean</th>\n",
       "      <td>35.207792</td>\n",
       "      <td>76.753247</td>\n",
       "      <td>149.714286</td>\n",
       "      <td>75.987013</td>\n",
       "      <td>69.467532</td>\n",
       "    </tr>\n",
       "    <tr>\n",
       "      <th>std</th>\n",
       "      <td>10.341966</td>\n",
       "      <td>16.475784</td>\n",
       "      <td>12.743272</td>\n",
       "      <td>15.228517</td>\n",
       "      <td>17.033701</td>\n",
       "    </tr>\n",
       "    <tr>\n",
       "      <th>min</th>\n",
       "      <td>21.000000</td>\n",
       "      <td>28.000000</td>\n",
       "      <td>114.000000</td>\n",
       "      <td>15.000000</td>\n",
       "      <td>30.000000</td>\n",
       "    </tr>\n",
       "    <tr>\n",
       "      <th>25%</th>\n",
       "      <td>27.000000</td>\n",
       "      <td>69.000000</td>\n",
       "      <td>144.000000</td>\n",
       "      <td>72.000000</td>\n",
       "      <td>56.000000</td>\n",
       "    </tr>\n",
       "    <tr>\n",
       "      <th>50%</th>\n",
       "      <td>33.000000</td>\n",
       "      <td>80.000000</td>\n",
       "      <td>156.000000</td>\n",
       "      <td>81.000000</td>\n",
       "      <td>71.000000</td>\n",
       "    </tr>\n",
       "    <tr>\n",
       "      <th>75%</th>\n",
       "      <td>42.000000</td>\n",
       "      <td>90.000000</td>\n",
       "      <td>158.000000</td>\n",
       "      <td>85.000000</td>\n",
       "      <td>83.000000</td>\n",
       "    </tr>\n",
       "    <tr>\n",
       "      <th>max</th>\n",
       "      <td>71.000000</td>\n",
       "      <td>98.000000</td>\n",
       "      <td>160.000000</td>\n",
       "      <td>91.000000</td>\n",
       "      <td>100.000000</td>\n",
       "    </tr>\n",
       "  </tbody>\n",
       "</table>\n",
       "</div>"
      ],
      "text/plain": [
       "             Age  entryEXAM  studyHOURS     Python          DB\n",
       "count  77.000000  77.000000   77.000000  77.000000   77.000000\n",
       "mean   35.207792  76.753247  149.714286  75.987013   69.467532\n",
       "std    10.341966  16.475784   12.743272  15.228517   17.033701\n",
       "min    21.000000  28.000000  114.000000  15.000000   30.000000\n",
       "25%    27.000000  69.000000  144.000000  72.000000   56.000000\n",
       "50%    33.000000  80.000000  156.000000  81.000000   71.000000\n",
       "75%    42.000000  90.000000  158.000000  85.000000   83.000000\n",
       "max    71.000000  98.000000  160.000000  91.000000  100.000000"
      ]
     },
     "execution_count": 22,
     "metadata": {},
     "output_type": "execute_result"
    }
   ],
   "source": [
    "df.describe()"
   ]
  },
  {
   "cell_type": "markdown",
   "id": "ac747c24-e4d7-4d9c-b7ed-1dc181fe5f97",
   "metadata": {},
   "source": [
    "#### Python, DB, and entryExam are correct: between 0 - 100"
   ]
  },
  {
   "cell_type": "markdown",
   "id": "4f5fd5e4-aea6-473a-ad8b-2333f94355e4",
   "metadata": {},
   "source": [
    "#### Checking studyHOURS oultiers"
   ]
  },
  {
   "cell_type": "code",
   "execution_count": 23,
   "id": "fa6bdc23-ce18-401c-97a5-2789ae304f56",
   "metadata": {},
   "outputs": [],
   "source": [
    "import seaborn as sns\n",
    "import matplotlib.pyplot as plt"
   ]
  },
  {
   "cell_type": "code",
   "execution_count": 24,
   "id": "90c6b14c-8157-49dc-99db-cd466541c1bf",
   "metadata": {},
   "outputs": [
    {
     "data": {
      "text/plain": [
       "<Axes: xlabel='studyHOURS'>"
      ]
     },
     "execution_count": 24,
     "metadata": {},
     "output_type": "execute_result"
    },
    {
     "data": {
      "image/png": "[encoded data removed]",
      "text/plain": [
       "<Figure size 640x480 with 1 Axes>"
      ]
     },
     "metadata": {},
     "output_type": "display_data"
    }
   ],
   "source": [
    "sns.boxplot(x='studyHOURS', data=df)\n",
    "sns.stripplot(x='studyHOURS', data=df, color=\"#474646\")\n"
   ]
  },
  {
   "cell_type": "markdown",
   "id": "2972b5fd-aee0-4058-badf-1230f4366e84",
   "metadata": {},
   "source": [
    "#### Fixing the outlier"
   ]
  },
  {
   "cell_type": "code",
   "execution_count": 25,
   "id": "b9d123df-62a9-41ef-9c4d-f3ebab2b60e3",
   "metadata": {
    "scrolled": true
   },
   "outputs": [],
   "source": [
    "# pip install datasist"
   ]
  },
  {
   "cell_type": "code",
   "execution_count": 26,
   "id": "85faf1e1-326d-4f53-9ee2-261de2c5decb",
   "metadata": {},
   "outputs": [
    {
     "name": "stdout",
     "output_type": "stream",
     "text": [
      "7\n"
     ]
    }
   ],
   "source": [
    "from datasist.structdata import detect_outliers\n",
    "\n",
    "# replacing the outliers of each column with the median of that column\n",
    "outlier_ind = detect_outliers(df, 0, ['studyHOURS'])\n",
    "median = df['studyHOURS'].median()              \n",
    "df.loc[outlier_ind, 'studyHOURS'] = median\n",
    "\n",
    "print(len(outlier_ind))\n",
    "\n",
    "# df.drop(outlier_ind, inplace = True)   # If we wanted to drop these rows"
   ]
  },
  {
   "cell_type": "code",
   "execution_count": 27,
   "id": "7284dd54-4896-43cf-9bfb-e3bdefb2edeb",
   "metadata": {},
   "outputs": [
    {
     "data": {
      "text/html": [
       "<div>\n",
       "<style scoped>\n",
       "    .dataframe tbody tr th:only-of-type {\n",
       "        vertical-align: middle;\n",
       "    }\n",
       "\n",
       "    .dataframe tbody tr th {\n",
       "        vertical-align: top;\n",
       "    }\n",
       "\n",
       "    .dataframe thead th {\n",
       "        text-align: right;\n",
       "    }\n",
       "</style>\n",
       "<table border=\"1\" class=\"dataframe\">\n",
       "  <thead>\n",
       "    <tr style=\"text-align: right;\">\n",
       "      <th></th>\n",
       "      <th>Age</th>\n",
       "      <th>entryEXAM</th>\n",
       "      <th>studyHOURS</th>\n",
       "      <th>Python</th>\n",
       "      <th>DB</th>\n",
       "    </tr>\n",
       "  </thead>\n",
       "  <tbody>\n",
       "    <tr>\n",
       "      <th>count</th>\n",
       "      <td>77.000000</td>\n",
       "      <td>77.000000</td>\n",
       "      <td>77.000000</td>\n",
       "      <td>77.000000</td>\n",
       "      <td>77.000000</td>\n",
       "    </tr>\n",
       "    <tr>\n",
       "      <th>mean</th>\n",
       "      <td>35.207792</td>\n",
       "      <td>76.753247</td>\n",
       "      <td>153.090909</td>\n",
       "      <td>75.987013</td>\n",
       "      <td>69.467532</td>\n",
       "    </tr>\n",
       "    <tr>\n",
       "      <th>std</th>\n",
       "      <td>10.341966</td>\n",
       "      <td>16.475784</td>\n",
       "      <td>8.134044</td>\n",
       "      <td>15.228517</td>\n",
       "      <td>17.033701</td>\n",
       "    </tr>\n",
       "    <tr>\n",
       "      <th>min</th>\n",
       "      <td>21.000000</td>\n",
       "      <td>28.000000</td>\n",
       "      <td>124.000000</td>\n",
       "      <td>15.000000</td>\n",
       "      <td>30.000000</td>\n",
       "    </tr>\n",
       "    <tr>\n",
       "      <th>25%</th>\n",
       "      <td>27.000000</td>\n",
       "      <td>69.000000</td>\n",
       "      <td>152.000000</td>\n",
       "      <td>72.000000</td>\n",
       "      <td>56.000000</td>\n",
       "    </tr>\n",
       "    <tr>\n",
       "      <th>50%</th>\n",
       "      <td>33.000000</td>\n",
       "      <td>80.000000</td>\n",
       "      <td>156.000000</td>\n",
       "      <td>81.000000</td>\n",
       "      <td>71.000000</td>\n",
       "    </tr>\n",
       "    <tr>\n",
       "      <th>75%</th>\n",
       "      <td>42.000000</td>\n",
       "      <td>90.000000</td>\n",
       "      <td>158.000000</td>\n",
       "      <td>85.000000</td>\n",
       "      <td>83.000000</td>\n",
       "    </tr>\n",
       "    <tr>\n",
       "      <th>max</th>\n",
       "      <td>71.000000</td>\n",
       "      <td>98.000000</td>\n",
       "      <td>160.000000</td>\n",
       "      <td>91.000000</td>\n",
       "      <td>100.000000</td>\n",
       "    </tr>\n",
       "  </tbody>\n",
       "</table>\n",
       "</div>"
      ],
      "text/plain": [
       "             Age  entryEXAM  studyHOURS     Python          DB\n",
       "count  77.000000  77.000000   77.000000  77.000000   77.000000\n",
       "mean   35.207792  76.753247  153.090909  75.987013   69.467532\n",
       "std    10.341966  16.475784    8.134044  15.228517   17.033701\n",
       "min    21.000000  28.000000  124.000000  15.000000   30.000000\n",
       "25%    27.000000  69.000000  152.000000  72.000000   56.000000\n",
       "50%    33.000000  80.000000  156.000000  81.000000   71.000000\n",
       "75%    42.000000  90.000000  158.000000  85.000000   83.000000\n",
       "max    71.000000  98.000000  160.000000  91.000000  100.000000"
      ]
     },
     "execution_count": 27,
     "metadata": {},
     "output_type": "execute_result"
    }
   ],
   "source": [
    "df.describe()"
   ]
  },
  {
   "cell_type": "markdown",
   "id": "7bc6f1fa-0af5-45f6-a7ee-175dd8241e10",
   "metadata": {},
   "source": [
    "# Saving the cleaned data in anew csv file"
   ]
  },
  {
   "cell_type": "code",
   "execution_count": 28,
   "id": "c5759851-c0d1-4bcf-a88d-fff4d03512f9",
   "metadata": {},
   "outputs": [],
   "source": [
    "df.to_csv('cleaned_students.csv', index=False, encoding='utf-8')\n"
   ]
  }
 ],
 "metadata": {
  "kernelspec": {
   "display_name": "Python [conda env:base] *",
   "language": "python",
   "name": "conda-base-py"
  },
  "language_info": {
   "codemirror_mode": {
    "name": "ipython",
    "version": 3
   },
   "file_extension": ".py",
   "mimetype": "text/x-python",
   "name": "python",
   "nbconvert_exporter": "python",
   "pygments_lexer": "ipython3",
   "version": "3.13.5"
  }
 },
 "nbformat": 4,
 "nbformat_minor": 5
}
